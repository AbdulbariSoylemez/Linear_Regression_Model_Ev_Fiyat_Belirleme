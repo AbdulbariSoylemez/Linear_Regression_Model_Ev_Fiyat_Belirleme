{
 "cells": [
  {
   "cell_type": "code",
   "execution_count": 79,
   "id": "334161f8",
   "metadata": {},
   "outputs": [],
   "source": [
    "import pandas as pd\n",
    "import matplotlib.pyplot as plt\n",
    "from sklearn import linear_model"
   ]
  },
  {
   "cell_type": "raw",
   "id": "d1a9a3e3",
   "metadata": {},
   "source": [
    "Lineer regresyon, bir bağımlı değişken ile bir veya daha fazla bağımsız değişken arasındaki ilişkiyi tanımlamak için kullanılan bir istatistiksel analiz yöntemidir."
   ]
  },
  {
   "cell_type": "code",
   "execution_count": 78,
   "id": "bcbc0654",
   "metadata": {},
   "outputs": [
    {
     "data": {
      "text/html": [
       "<div>\n",
       "<style scoped>\n",
       "    .dataframe tbody tr th:only-of-type {\n",
       "        vertical-align: middle;\n",
       "    }\n",
       "\n",
       "    .dataframe tbody tr th {\n",
       "        vertical-align: top;\n",
       "    }\n",
       "\n",
       "    .dataframe thead th {\n",
       "        text-align: right;\n",
       "    }\n",
       "</style>\n",
       "<table border=\"1\" class=\"dataframe\">\n",
       "  <thead>\n",
       "    <tr style=\"text-align: right;\">\n",
       "      <th></th>\n",
       "      <th>alan</th>\n",
       "      <th>odasayisi</th>\n",
       "      <th>binayasi</th>\n",
       "      <th>fiyat</th>\n",
       "    </tr>\n",
       "  </thead>\n",
       "  <tbody>\n",
       "    <tr>\n",
       "      <th>0</th>\n",
       "      <td>180</td>\n",
       "      <td>5</td>\n",
       "      <td>10</td>\n",
       "      <td>510000</td>\n",
       "    </tr>\n",
       "    <tr>\n",
       "      <th>1</th>\n",
       "      <td>225</td>\n",
       "      <td>4</td>\n",
       "      <td>18</td>\n",
       "      <td>508000</td>\n",
       "    </tr>\n",
       "    <tr>\n",
       "      <th>2</th>\n",
       "      <td>260</td>\n",
       "      <td>3</td>\n",
       "      <td>2</td>\n",
       "      <td>548000</td>\n",
       "    </tr>\n",
       "    <tr>\n",
       "      <th>3</th>\n",
       "      <td>320</td>\n",
       "      <td>6</td>\n",
       "      <td>10</td>\n",
       "      <td>650000</td>\n",
       "    </tr>\n",
       "    <tr>\n",
       "      <th>4</th>\n",
       "      <td>335</td>\n",
       "      <td>4</td>\n",
       "      <td>9</td>\n",
       "      <td>628000</td>\n",
       "    </tr>\n",
       "    <tr>\n",
       "      <th>5</th>\n",
       "      <td>345</td>\n",
       "      <td>5</td>\n",
       "      <td>14</td>\n",
       "      <td>632000</td>\n",
       "    </tr>\n",
       "    <tr>\n",
       "      <th>6</th>\n",
       "      <td>355</td>\n",
       "      <td>3</td>\n",
       "      <td>0</td>\n",
       "      <td>680000</td>\n",
       "    </tr>\n",
       "    <tr>\n",
       "      <th>7</th>\n",
       "      <td>400</td>\n",
       "      <td>4</td>\n",
       "      <td>10</td>\n",
       "      <td>725000</td>\n",
       "    </tr>\n",
       "  </tbody>\n",
       "</table>\n",
       "</div>"
      ],
      "text/plain": [
       "   alan  odasayisi  binayasi   fiyat\n",
       "0   180          5        10  510000\n",
       "1   225          4        18  508000\n",
       "2   260          3         2  548000\n",
       "3   320          6        10  650000\n",
       "4   335          4         9  628000\n",
       "5   345          5        14  632000\n",
       "6   355          3         0  680000\n",
       "7   400          4        10  725000"
      ]
     },
     "execution_count": 78,
     "metadata": {},
     "output_type": "execute_result"
    }
   ],
   "source": [
    "data=pd.read_csv(\"multilinearregression.csv\",sep=\";\")\n",
    "data"
   ]
  },
  {
   "cell_type": "code",
   "execution_count": 13,
   "id": "7925eda9",
   "metadata": {},
   "outputs": [
    {
     "data": {
      "text/html": [
       "<div>\n",
       "<style scoped>\n",
       "    .dataframe tbody tr th:only-of-type {\n",
       "        vertical-align: middle;\n",
       "    }\n",
       "\n",
       "    .dataframe tbody tr th {\n",
       "        vertical-align: top;\n",
       "    }\n",
       "\n",
       "    .dataframe thead th {\n",
       "        text-align: right;\n",
       "    }\n",
       "</style>\n",
       "<table border=\"1\" class=\"dataframe\">\n",
       "  <thead>\n",
       "    <tr style=\"text-align: right;\">\n",
       "      <th></th>\n",
       "      <th>count</th>\n",
       "      <th>mean</th>\n",
       "      <th>std</th>\n",
       "      <th>min</th>\n",
       "      <th>25%</th>\n",
       "      <th>50%</th>\n",
       "      <th>75%</th>\n",
       "      <th>max</th>\n",
       "    </tr>\n",
       "  </thead>\n",
       "  <tbody>\n",
       "    <tr>\n",
       "      <th>alan</th>\n",
       "      <td>8.0</td>\n",
       "      <td>302.500</td>\n",
       "      <td>73.920807</td>\n",
       "      <td>180.0</td>\n",
       "      <td>251.25</td>\n",
       "      <td>327.5</td>\n",
       "      <td>347.5</td>\n",
       "      <td>400.0</td>\n",
       "    </tr>\n",
       "    <tr>\n",
       "      <th>odasayisi</th>\n",
       "      <td>8.0</td>\n",
       "      <td>4.250</td>\n",
       "      <td>1.035098</td>\n",
       "      <td>3.0</td>\n",
       "      <td>3.75</td>\n",
       "      <td>4.0</td>\n",
       "      <td>5.0</td>\n",
       "      <td>6.0</td>\n",
       "    </tr>\n",
       "    <tr>\n",
       "      <th>binayasi</th>\n",
       "      <td>8.0</td>\n",
       "      <td>9.125</td>\n",
       "      <td>5.841661</td>\n",
       "      <td>0.0</td>\n",
       "      <td>7.25</td>\n",
       "      <td>10.0</td>\n",
       "      <td>11.0</td>\n",
       "      <td>18.0</td>\n",
       "    </tr>\n",
       "    <tr>\n",
       "      <th>fiyat</th>\n",
       "      <td>8.0</td>\n",
       "      <td>610125.000</td>\n",
       "      <td>79982.922284</td>\n",
       "      <td>508000.0</td>\n",
       "      <td>538500.00</td>\n",
       "      <td>630000.0</td>\n",
       "      <td>657500.0</td>\n",
       "      <td>725000.0</td>\n",
       "    </tr>\n",
       "  </tbody>\n",
       "</table>\n",
       "</div>"
      ],
      "text/plain": [
       "           count        mean           std       min        25%       50%  \\\n",
       "alan         8.0     302.500     73.920807     180.0     251.25     327.5   \n",
       "odasayisi    8.0       4.250      1.035098       3.0       3.75       4.0   \n",
       "binayasi     8.0       9.125      5.841661       0.0       7.25      10.0   \n",
       "fiyat        8.0  610125.000  79982.922284  508000.0  538500.00  630000.0   \n",
       "\n",
       "                75%       max  \n",
       "alan          347.5     400.0  \n",
       "odasayisi       5.0       6.0  \n",
       "binayasi       11.0      18.0  \n",
       "fiyat      657500.0  725000.0  "
      ]
     },
     "execution_count": 13,
     "metadata": {},
     "output_type": "execute_result"
    }
   ],
   "source": [
    "data.describe().T"
   ]
  },
  {
   "cell_type": "code",
   "execution_count": 24,
   "id": "d4668afe",
   "metadata": {},
   "outputs": [
    {
     "data": {
      "text/plain": [
       "Text(0.5, 1.0, 'Oda Sayısı - Fiyat   İlişkisi')"
      ]
     },
     "execution_count": 24,
     "metadata": {},
     "output_type": "execute_result"
    },
    {
     "data": {
      "image/png": "[encoded data removed]",
      "text/plain": [
       "<Figure size 640x480 with 1 Axes>"
      ]
     },
     "metadata": {},
     "output_type": "display_data"
    }
   ],
   "source": [
    "\n",
    "data.groupby(\"odasayisi\")[\"fiyat\"].mean().plot(kind=\"bar\")\n",
    "plt.xlabel('Oda Sayısı')\n",
    "plt.ylabel('Fiyat')\n",
    "plt.title('Oda Sayısı - Fiyat   İlişkisi')"
   ]
  },
  {
   "cell_type": "code",
   "execution_count": 90,
   "id": "5b86c48a",
   "metadata": {},
   "outputs": [
    {
     "data": {
      "image/png": "[encoded data removed]",
      "text/plain": [
       "<Figure size 640x480 with 1 Axes>"
      ]
     },
     "metadata": {},
     "output_type": "display_data"
    }
   ],
   "source": [
    "data.groupby(\"alan\")[\"fiyat\"].mean().plot(kind=\"bar\")\n",
    "plt.xlabel(\"Alan\")\n",
    "plt.ylabel(\"Fiyat\")\n",
    "plt.title('alan - Fiyat   İlişkisi');"
   ]
  },
  {
   "cell_type": "code",
   "execution_count": 97,
   "id": "224bc2e8",
   "metadata": {},
   "outputs": [
    {
     "data": {
      "text/plain": [
       "<AxesSubplot:xlabel='binayasi'>"
      ]
     },
     "execution_count": 97,
     "metadata": {},
     "output_type": "execute_result"
    },
    {
     "data": {
      "image/png": "[encoded data removed]",
      "text/plain": [
       "<Figure size 640x480 with 1 Axes>"
      ]
     },
     "metadata": {},
     "output_type": "display_data"
    }
   ],
   "source": [
    "data.groupby(\"binayasi\")[\"fiyat\"].mean().plot(color=\"red\")"
   ]
  },
  {
   "cell_type": "raw",
   "id": "6aa2ff1c",
   "metadata": {},
   "source": [
    "liner regression modelimizi tanımlıyalım ve reg değişkenine atıyalım "
   ]
  },
  {
   "cell_type": "code",
   "execution_count": 63,
   "id": "40b52472",
   "metadata": {},
   "outputs": [],
   "source": [
    "x=data.drop([\"fiyat\"],axis=1)\n",
    "y=data[\"fiyat\"]"
   ]
  },
  {
   "cell_type": "raw",
   "id": "b446342d",
   "metadata": {},
   "source": [
    "reg.fit(x,y)  ile modelimiz eğitilir \n",
    "reg.predict() modelimiz ile örenk veri vererek modelimizi test ediyoruz"
   ]
  },
  {
   "cell_type": "code",
   "execution_count": 64,
   "id": "6ff6b69d",
   "metadata": {},
   "outputs": [
    {
     "name": "stdout",
     "output_type": "stream",
     "text": [
      "[530243.29284619]\n"
     ]
    },
    {
     "name": "stderr",
     "output_type": "stream",
     "text": [
      "/Users/abdulbarisoylemez/opt/anaconda3/lib/python3.9/site-packages/sklearn/base.py:450: UserWarning: X does not have valid feature names, but LinearRegression was fitted with feature names\n",
      "  warnings.warn(\n"
     ]
    }
   ],
   "source": [
    "reg=linear_model.LinearRegression()\n",
    "reg.fit(x,y) \n",
    "\n",
    "print(reg.predict([[230,4,10]]))"
   ]
  },
  {
   "cell_type": "code",
   "execution_count": 86,
   "id": "9f9985cb",
   "metadata": {},
   "outputs": [
    {
     "name": "stdout",
     "output_type": "stream",
     "text": [
      "[601573.19866372 539887.71790968 702726.78206735]\n"
     ]
    },
    {
     "name": "stderr",
     "output_type": "stream",
     "text": [
      "/Users/abdulbarisoylemez/opt/anaconda3/lib/python3.9/site-packages/sklearn/base.py:450: UserWarning: X does not have valid feature names, but LinearRegression was fitted with feature names\n",
      "  warnings.warn(\n"
     ]
    }
   ],
   "source": [
    "print(reg.predict([[300,4,10],[200,6,6],[400,5,16]]))"
   ]
  },
  {
   "cell_type": "raw",
   "id": "55bcfb26",
   "metadata": {},
   "source": [
    "modelimizin formülü liner regression modeli \n",
    "\n",
    "y =a + b1x1 + b2x2 + b3x3 + ..\n",
    "\n",
    "şimdi geğişkenlere bakalım "
   ]
  },
  {
   "cell_type": "code",
   "execution_count": 87,
   "id": "c260632e",
   "metadata": {},
   "outputs": [
    {
     "name": "stdout",
     "output_type": "stream",
     "text": [
      "a : 262365.1503032055   b1 : 1018.9986545362071  b2 : 14893.823749844563   b3 : -2606.684299972332\n"
     ]
    }
   ],
   "source": [
    "a = reg.intercept_\n",
    "b1=reg.coef_[0]\n",
    "b2=reg.coef_[1]\n",
    "b3=reg.coef_[2]\n",
    "print(\"a :\",a,\"  b1 :\",b1,\" b2 :\",b2,\"  b3 :\",b3)"
   ]
  },
  {
   "cell_type": "raw",
   "id": "8d21d60f",
   "metadata": {},
   "source": [
    "değişkenlere baktığımız zaman a b1 ve b2 değeri doğru ortı iken b3 ters bir ortı izliyor veriden bunu anlıyoruz \n",
    "\n",
    "\n",
    "bir örenk verelim bakalım 230 m2 , 4 odalı ve 8 yılık bir daire olsun bakalım fiyatı ne olur "
   ]
  },
  {
   "cell_type": "code",
   "execution_count": 89,
   "id": "7e744df7",
   "metadata": {},
   "outputs": [
    {
     "data": {
      "text/plain": [
       "535456.6614461327"
      ]
     },
     "execution_count": 89,
     "metadata": {},
     "output_type": "execute_result"
    }
   ],
   "source": [
    "y = a + b1*230 + b2*4 + b3*8 \n",
    "\n",
    "y"
   ]
  },
  {
   "cell_type": "code",
   "execution_count": null,
   "id": "9a109e2e",
   "metadata": {},
   "outputs": [],
   "source": []
  }
 ],
 "metadata": {
  "kernelspec": {
   "display_name": "Python 3 (ipykernel)",
   "language": "python",
   "name": "python3"
  },
  "language_info": {
   "codemirror_mode": {
    "name": "ipython",
    "version": 3
   },
   "file_extension": ".py",
   "mimetype": "text/x-python",
   "name": "python",
   "nbconvert_exporter": "python",
   "pygments_lexer": "ipython3",
   "version": "3.9.13"
  }
 },
 "nbformat": 4,
 "nbformat_minor": 5
}
